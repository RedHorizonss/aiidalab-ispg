{
 "cells": [
  {
   "cell_type": "code",
   "execution_count": null,
   "id": "1a616e35",
   "metadata": {},
   "outputs": [],
   "source": [
    "import numpy as np\n",
    "import pandas as pd \n",
    "import matplotlib.pyplot as plt"
   ]
  },
  {
   "cell_type": "code",
   "execution_count": null,
   "id": "e9f9a748",
   "metadata": {},
   "outputs": [],
   "source": [
    "## Importing all data trough pandas \n",
    "data1 = pd.read_table(\"cyclopentanone_pbe0_6311pgs_n512_gauss0.05.nm.tsv\")\n",
    "data2 = pd.read_table(\"pinacolone_pbe0_6311pgs_n256_gauss0.05.nm.tsv\")\n",
    "actFlux = pd.read_csv(\"StandardActinicFluxes.csv\")"
   ]
  },
  {
   "cell_type": "code",
   "execution_count": null,
   "id": "e1c14fb7",
   "metadata": {},
   "outputs": [],
   "source": [
    "## Data: Energy / nm, Intensity / cm2\n",
    "## Actflux: Wavelength / nm, Flux / quanta.cm-2.s-"
   ]
  },
  {
   "cell_type": "code",
   "execution_count": null,
   "id": "550e5102",
   "metadata": {},
   "outputs": [],
   "source": [
    "## Converting into numpy arrays\n",
    "wc = actFlux[\"wc\"].to_numpy()\n",
    "lowFlux = actFlux[\"L90_500\"].to_numpy()\n",
    "medFlux = actFlux[\"M60_350\"].to_numpy()\n",
    "highFlux = actFlux[\"H0_200\"].to_numpy()\n",
    "wavelength_cyclo, wavelength_pina = np.flip(data1[\"# Energy / nm\"].to_numpy()), np.flip(data2[\"# Energy / nm\"].to_numpy())\n",
    "intensity_cyclo, intensity_pina = np.flip(data1[\"Intensity / cm^2 per molecule\"].to_numpy()), np.flip(data2[\"Intensity / cm^2 per molecule\"].to_numpy())"
   ]
  },
  {
   "cell_type": "code",
   "execution_count": null,
   "id": "68a79260",
   "metadata": {},
   "outputs": [],
   "source": [
    "## Exploratory plotting \n",
    "# fig, ax = plt.subplots(1,2, figsize = (15,7))\n",
    "# fig2, ax2 = plt.subplots(1,3, figsize = (15,7))\n",
    "\n",
    "# ax[0].scatter(x= wavelength_cyclo,y=intensity_cyclo)\n",
    "# ax[1].scatter(x= wavelength_pina,y=intensity_pina)\n",
    "\n",
    "# ax2[0].scatter(x= wc, y = lowFlux)\n",
    "# ax2[1].scatter(x= wc, y = medFlux)\n",
    "# ax2[2].scatter(x= wc, y = highFlux)"
   ]
  },
  {
   "cell_type": "code",
   "execution_count": null,
   "id": "afc6831e",
   "metadata": {},
   "outputs": [],
   "source": [
    "## interpolating values both onto round numbers\n",
    "\n",
    "x_max_flux = np.floor(wc.max())\n",
    "x_min_flux = np.floor(wc.min())\n",
    "\n",
    "x_min_wavelength = np.floor(wavelength_pina.min())\n",
    "x_max_wavelength = np.floor(wavelength_cyclo.max())\n",
    "\n",
    "#x_vals = np.arange(x_min_flux,x_max_flux,1)\n",
    "x_vals = np.arange(x_min_wavelength,x_max_flux,1)\n",
    "x_vals\n",
    "\n",
    "low_flux_interp = np.interp(x_vals, wc, lowFlux)\n",
    "med_flux_interp = np.interp(x_vals, wc, medFlux)\n",
    "high_flux_interp = np.interp(x_vals, wc, highFlux)\n",
    "\n",
    "\n",
    "intensity_cyclo_interp = np.interp(x_vals, wavelength_cyclo, intensity_cyclo)\n",
    "intensity_pina_interp = np.interp(x_vals, wavelength_pina, intensity_pina)\n",
    "\n",
    "## Multiplying distributions \n",
    "\n",
    "q_yield = 1 \n",
    "\n",
    "j_components_cyclo = intensity_cyclo_interp*high_flux_interp*q_yield\n",
    "j_components_pina = intensity_pina_interp*high_flux_interp*q_yield"
   ]
  },
  {
   "cell_type": "code",
   "execution_count": null,
   "id": "485bca22",
   "metadata": {},
   "outputs": [],
   "source": [
    "## interpolating values onto cross section wavelengths and multiplying distributions\n",
    "\n",
    "def calc_j_components(flux_wav, flux_int, mol_wav, mol_int, q_yield):\n",
    "    \n",
    "    flux_interp = np.interp(mol_wav,flux_wav,flux_int)\n",
    "    \n",
    "    j = flux_interp*mol_int*q_yield\n",
    "    \n",
    "    return mol_wav, j"
   ]
  },
  {
   "cell_type": "code",
   "execution_count": null,
   "id": "558b6825",
   "metadata": {},
   "outputs": [],
   "source": [
    "wav, j_comp = calc_j_components(wc, highFlux, wavelength_cyclo,intensity_cyclo,1)"
   ]
  },
  {
   "cell_type": "code",
   "execution_count": null,
   "id": "77f99ad1",
   "metadata": {},
   "outputs": [],
   "source": [
    "fig,ax = plt.subplots(1,1,figsize=(15,10))\n",
    "\n",
    "ax.plot(x_vals,j_components_cyclo, label = \"interpolating onto round numbers\")\n",
    "ax.plot(wav,j_comp, label = \"Interpolating onto cross section wav\")\n",
    "ax.legend()\n",
    "plt.show()"
   ]
  },
  {
   "cell_type": "code",
   "execution_count": null,
   "id": "1b80799b",
   "metadata": {},
   "outputs": [],
   "source": []
  }
 ],
 "metadata": {
  "kernelspec": {
   "display_name": "Python 3 (ipykernel)",
   "language": "python",
   "name": "python3"
  },
  "language_info": {
   "codemirror_mode": {
    "name": "ipython",
    "version": 3
   },
   "file_extension": ".py",
   "mimetype": "text/x-python",
   "name": "python",
   "nbconvert_exporter": "python",
   "pygments_lexer": "ipython3",
   "version": "3.9.12"
  }
 },
 "nbformat": 4,
 "nbformat_minor": 5
}
