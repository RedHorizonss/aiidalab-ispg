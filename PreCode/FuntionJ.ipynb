{
 "cells": [
  {
   "cell_type": "code",
   "execution_count": null,
   "metadata": {},
   "outputs": [],
   "source": [
    "import pandas as pd\n",
    "import numpy as np\n",
    "cyclo = pd.read_csv(\"cyclopentanone_pbe0_6311pgs_n512_gauss0.05.nm.tsv\", sep=\"\\t\")\n",
    "pina = pd.read_csv(\"pinacolone_pbe0_6311pgs_n256_gauss0.05.nm.tsv\",  sep=\"\\t\")\n",
    "AF = pd.read_csv(\"StandardActinicFlux.csv\")\n",
    "\n",
    "cyclo = cyclo.drop(\"gaussian broadening, width = 0.05 eV\", axis=1)\n",
    "pina = pina.drop(\"gaussian broadening, width = 0.05 eV\", axis=1)\n",
    "\n",
    "WLcy = cyclo[\"# Energy / nm\"].to_numpy() #data to use in interpolation\n",
    "Icy = cyclo[\"Intensity / cm^2 per molecule\"].to_numpy()\n",
    "\n",
    "WLpin = pina[\"# Energy / nm\"].to_numpy() #data to use in interpolation\n",
    "Ipin = pina[\"Intensity / cm^2 per molecule\"].to_numpy()\n",
    "\n",
    "WLAF = AF[\"wc\"].to_numpy()\n",
    "FAF = AF[\"H0_200\"].to_numpy()"
   ]
  },
  {
   "cell_type": "code",
   "execution_count": null,
   "metadata": {},
   "outputs": [],
   "source": [
    "def FindJ(afWL, af, gWL, gI, qy):\n",
    "    mask = (gWL > afWL.min()) & (gWL < afWL.max())\n",
    "    fitted_gWL = gWL[mask]\n",
    "    fitted_gI = gI[mask]\n",
    "    \n",
    "    g_af = np.interp(fitted_gWL, afWL, af)\n",
    "    \n",
    "    J = g_af * fitted_gI * qy\n",
    "    \n",
    "    return J, fitted_gWL\n",
    "\n",
    "Jcy, WLcy_fit  = FindJ(WLAF, FAF, WLcy, Icy, 1)\n",
    "Jpin, WLpin_fit = FindJ(WLAF, FAF, WLpin, Ipin, 1)\n",
    "\n",
    "Jcy5, WLcy_fit5  = FindJ(WLAF, FAF, WLcy, Icy, 0.5)\n",
    "Jpin5, WLpin_fit5 = FindJ(WLAF, FAF, WLpin, Ipin, 0.5)"
   ]
  },
  {
   "cell_type": "code",
   "execution_count": null,
   "metadata": {},
   "outputs": [],
   "source": [
    "import seaborn as sns\n",
    "import matplotlib.pyplot as plt"
   ]
  },
  {
   "cell_type": "code",
   "execution_count": null,
   "metadata": {},
   "outputs": [],
   "source": [
    "sns.lineplot(x = WLcy_fit , y=Jcy, label = \"1\")\n",
    "plt.xlabel(\"Wavelength /nm\")\n",
    "plt.ylabel(\"J\")\n",
    "\n",
    "sns.lineplot(x = WLcy_fit5 , y=Jcy5, label = \"0.5\")\n",
    "plt.xlabel(\"Wavelength /nm\")\n",
    "plt.ylabel(\"J\")"
   ]
  },
  {
   "cell_type": "code",
   "execution_count": null,
   "metadata": {},
   "outputs": [],
   "source": [
    "sns.lineplot(x = WLcy_fit , y=Jcy, label = \"cylo\")\n",
    "plt.xlabel(\"Wavelength /nm\")\n",
    "plt.ylabel(\"J\")\n",
    "\n",
    "sns.lineplot(x = WLpin_fit , y=Jpin, label = \"Pina\")\n",
    "plt.xlabel(\"Wavelength /nm\")\n",
    "plt.ylabel(\"J\")"
   ]
  },
  {
   "cell_type": "code",
   "execution_count": null,
   "metadata": {},
   "outputs": [],
   "source": []
  }
 ],
 "metadata": {
  "kernelspec": {
   "display_name": "Python 3",
   "language": "python",
   "name": "python3"
  },
  "language_info": {
   "codemirror_mode": {
    "name": "ipython",
    "version": 3
   },
   "file_extension": ".py",
   "mimetype": "text/x-python",
   "name": "python",
   "nbconvert_exporter": "python",
   "pygments_lexer": "ipython3",
   "version": "3.10.10"
  },
  "vscode": {
   "interpreter": {
    "hash": "be05fccd70a9f11b21000b536c6cb5b39046de17efb11610926f67c25f12acf3"
   }
  }
 },
 "nbformat": 4,
 "nbformat_minor": 2
}
