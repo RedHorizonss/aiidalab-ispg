{
 "cells": [
  {
   "cell_type": "markdown",
   "id": "753fb803",
   "metadata": {},
   "source": [
    "<b>Creating code to read in data "
   ]
  },
  {
   "cell_type": "code",
   "execution_count": null,
   "id": "6db9d3b4",
   "metadata": {},
   "outputs": [],
   "source": [
    "from csv import reader\n",
    "import numpy as np\n",
    "import matplotlib.pyplot as plt\n",
    "import pandas as pd\n",
    "\n",
    "flux_file = \"StandardActinicFluxes2.csv\"\n",
    "cross_section_pina_colada = \"pinacolone_pbe0_6311pgs_n256_gauss0.05.nm.tsv\"\n",
    "cross_section_cyclo = \"cyclopentanone_pbe0_6311pgs_n512_gauss0.05.nm.tsv\""
   ]
  },
  {
   "cell_type": "code",
   "execution_count": null,
   "id": "612c7bd3",
   "metadata": {},
   "outputs": [],
   "source": [
    "def process(file, delimiter):\n",
    "    with open(file) as csv_file:\n",
    "        csv_reader = reader(csv_file, delimiter=delimiter)\n",
    "        data = list(csv_reader)\n",
    "    data = np.asarray(data[1:]).transpose()\n",
    "    return data.astype(float)\n",
    "\n",
    "def photolysis(flux, cross, DU, title, ax):\n",
    "    energy = cross[0]\n",
    "    if DU == 'L':\n",
    "        du = list(flux[3])\n",
    "    elif DU == 'M':\n",
    "        du = list(flux[4])\n",
    "    elif DU == 'H':\n",
    "        du = list(flux[5])\n",
    "    flux_interp = np.interp(energy, list(flux[2]), du)\n",
    "    j = flux_interp*cross[1]\n",
    "    ax.plot(energy,j)\n",
    "    ax.set(xlabel = \"Wavelength /nm\",\n",
    "           ylabel = \"Photolysis rate / ?\",\n",
    "          title = title)"
   ]
  },
  {
   "cell_type": "code",
   "execution_count": null,
   "id": "09a82ffb",
   "metadata": {},
   "outputs": [],
   "source": [
    "actinic = process(flux_file, ',')\n",
    "pina_colada = process(cross_section_pina_colada, '\\t')\n",
    "fig, (ax1,ax2,ax3) = plt.subplots(1,3, figsize = (10,5))\n",
    "fig.tight_layout()\n",
    "photolysis(actinic, pina_colada, DU='L', title = \"pinacolone Lower DU\", ax = ax1)\n",
    "photolysis(actinic, pina_colada, DU='M', title = \"pinacolone Middle DU\", ax = ax2)\n",
    "photolysis(actinic, pina_colada, DU='H', title = \"pinacolone Higher DU\", ax = ax3)"
   ]
  },
  {
   "cell_type": "code",
   "execution_count": null,
   "id": "493fb8b4",
   "metadata": {},
   "outputs": [],
   "source": [
    "actinic = process(flux_file, ',')\n",
    "cyclo = process(cross_section_cyclo, '\\t')\n",
    "fig, (ax1,ax2,ax3) = plt.subplots(1,3, figsize = (10,5))\n",
    "fig.tight_layout()\n",
    "photolysis(actinic, cyclo, DU='L', title = \"cyclo Lower DU\", ax = ax1)\n",
    "photolysis(actinic, cyclo, DU='M', title = \"cyclo Middle DU\", ax = ax2)\n",
    "photolysis(actinic, cyclo, DU='H', title = \"cyclo Higher DU\", ax = ax3)"
   ]
  },
  {
   "cell_type": "code",
   "execution_count": null,
   "id": "fd2876f5",
   "metadata": {},
   "outputs": [],
   "source": [
    "fig, ax1 = plt.subplots()\n",
    "photolysis(actinic, pina_colada, DU='H', title = \"pinacolone Higher DU\", ax = ax1)\n",
    "photolysis(actinic, cyclo, DU='H', title = \"cyclo Higher DU\", ax = ax1)"
   ]
  },
  {
   "cell_type": "code",
   "execution_count": null,
   "id": "d0f30048",
   "metadata": {},
   "outputs": [],
   "source": [
    "plt.plot(actinic[0], actinic[3])\n",
    "plt.plot()"
   ]
  },
  {
   "cell_type": "code",
   "execution_count": null,
   "id": "84226c19",
   "metadata": {},
   "outputs": [],
   "source": [
    "x = pd.read_csv(cross_section_cyclo, sep='\\t')"
   ]
  },
  {
   "cell_type": "code",
   "execution_count": null,
   "id": "57e7112e",
   "metadata": {},
   "outputs": [],
   "source": [
    "plt.plot(x['# Energy / nm'],x['Intensity / cm^2 per molecule'])"
   ]
  },
  {
   "cell_type": "code",
   "execution_count": null,
   "id": "c9d963ca",
   "metadata": {},
   "outputs": [],
   "source": [
    "x['Intensity / cm^2 per molecule']"
   ]
  },
  {
   "cell_type": "code",
   "execution_count": null,
   "id": "8bdd7ee9",
   "metadata": {},
   "outputs": [],
   "source": []
  }
 ],
 "metadata": {
  "kernelspec": {
   "display_name": "Python 3 (ipykernel)",
   "language": "python",
   "name": "python3"
  },
  "language_info": {
   "codemirror_mode": {
    "name": "ipython",
    "version": 3
   },
   "file_extension": ".py",
   "mimetype": "text/x-python",
   "name": "python",
   "nbconvert_exporter": "python",
   "pygments_lexer": "ipython3",
   "version": "3.9.13"
  }
 },
 "nbformat": 4,
 "nbformat_minor": 5
}
